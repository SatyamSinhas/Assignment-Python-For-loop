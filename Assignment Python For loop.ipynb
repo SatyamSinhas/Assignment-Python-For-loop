{
 "cells": [
  {
   "cell_type": "code",
   "execution_count": 2,
   "id": "15ecca94-826d-43db-a9f2-f0c724d65ab4",
   "metadata": {},
   "outputs": [],
   "source": [
    "#1. Write a Python program to print the numbers from 1 to 10 using a `for` loop."
   ]
  },
  {
   "cell_type": "code",
   "execution_count": 10,
   "id": "d39afa29-9f88-4645-b7f4-5cdc684ad640",
   "metadata": {},
   "outputs": [
    {
     "name": "stdout",
     "output_type": "stream",
     "text": [
      "1\n",
      "2\n",
      "3\n",
      "4\n",
      "5\n",
      "6\n",
      "7\n",
      "8\n",
      "9\n",
      "10\n"
     ]
    }
   ],
   "source": [
    "for i in range(1,11):\n",
    "    print(i)\n"
   ]
  },
  {
   "cell_type": "code",
   "execution_count": 11,
   "id": "14b8e37f-9f60-45e3-baff-7c3505ddd67c",
   "metadata": {},
   "outputs": [],
   "source": [
    "#Create a program that calculates the sum of all numbers in a list using a `for` loop."
   ]
  },
  {
   "cell_type": "code",
   "execution_count": 6,
   "id": "154fc9d3-f440-4af4-89ee-611bdca18959",
   "metadata": {},
   "outputs": [
    {
     "name": "stdout",
     "output_type": "stream",
     "text": [
      "15\n"
     ]
    }
   ],
   "source": [
    "numbers = [1,2,3,4,5]\n",
    "sum = 0\n",
    "for i in numbers:\n",
    "    sum = sum + i\n",
    "print(sum)\n"
   ]
  },
  {
   "cell_type": "code",
   "execution_count": 7,
   "id": "c7b0e4d1-18c2-4c40-ab5e-124fa69dcd41",
   "metadata": {},
   "outputs": [],
   "source": [
    "#3Write a program to print the characters of a string in reverse order using a `for` loop."
   ]
  },
  {
   "cell_type": "code",
   "execution_count": 4,
   "id": "71f28537-94c3-43ef-a2f6-004185c933f0",
   "metadata": {},
   "outputs": [
    {
     "name": "stdout",
     "output_type": "stream",
     "text": [
      "The reversed string is= ahniS maytaS\n"
     ]
    }
   ],
   "source": [
    "def reverse (s):\n",
    "    str = \"\"\n",
    "    for i in s:\n",
    "        str = i + str\n",
    "    return str\n",
    "s = \"Satyam Sinha\"\n",
    "print(\"The reversed string is=\", reverse(s))"
   ]
  },
  {
   "cell_type": "code",
   "execution_count": 5,
   "id": "eb11d8d5-5920-42a0-ac3c-a7d1e97a81e5",
   "metadata": {},
   "outputs": [],
   "source": [
    "#4. Develop a program that finds the factorial of a given number using a `for` loop.\n"
   ]
  },
  {
   "cell_type": "code",
   "execution_count": 7,
   "id": "7e8fd9d1-220a-4ad2-b2ad-effbcaeaaada",
   "metadata": {},
   "outputs": [
    {
     "name": "stdin",
     "output_type": "stream",
     "text": [
      "Enter n: 6\n"
     ]
    },
    {
     "name": "stdout",
     "output_type": "stream",
     "text": [
      "Factorial of 6 is = 720\n"
     ]
    }
   ],
   "source": [
    "n =  int(input(\"Enter n:\"))\n",
    "fact = 1\n",
    "for i in range (2, n+1):\n",
    "    fact = fact *i\n",
    "print(\"Factorial of\",n, \"is =\", fact)"
   ]
  },
  {
   "cell_type": "code",
   "execution_count": 8,
   "id": "148cce63-15c8-43f5-ba2f-aebd05904eb5",
   "metadata": {},
   "outputs": [],
   "source": [
    "#5. Create a program to print the multiplication table of a given number using a `for` loop."
   ]
  },
  {
   "cell_type": "code",
   "execution_count": 5,
   "id": "bfb990b7-642d-4685-b065-a0be8e3cf21d",
   "metadata": {},
   "outputs": [
    {
     "name": "stdin",
     "output_type": "stream",
     "text": [
      "Enter number= 5\n"
     ]
    },
    {
     "name": "stdout",
     "output_type": "stream",
     "text": [
      "5 * 1 = 5\n",
      "5 * 2 = 10\n",
      "5 * 3 = 15\n",
      "5 * 4 = 20\n",
      "5 * 5 = 25\n",
      "5 * 6 = 30\n",
      "5 * 7 = 35\n",
      "5 * 8 = 40\n",
      "5 * 9 = 45\n",
      "5 * 10 = 50\n"
     ]
    }
   ],
   "source": [
    "m = int(input(\"Enter number=\"))\n",
    "for i in range(1,11):\n",
    "    result = m * i\n",
    "    print(m,\"*\",i,\"=\",result)"
   ]
  },
  {
   "cell_type": "code",
   "execution_count": 8,
   "id": "1a05147f-3cbc-4263-bcb0-7cb39bd960e0",
   "metadata": {},
   "outputs": [],
   "source": [
    "#6. Write a program that counts the number of even and odd numbers in a list using a `for` loop."
   ]
  },
  {
   "cell_type": "code",
   "execution_count": 11,
   "id": "6e0ad97a-3430-42ba-aa4f-094e2f3f8031",
   "metadata": {},
   "outputs": [
    {
     "name": "stdout",
     "output_type": "stream",
     "text": [
      "[2, 4, 6, 8, 10]\n",
      "[1, 3, 5, 7, 9]\n"
     ]
    }
   ],
   "source": [
    "num = [1,2,3,4,5,6,7,8,9,10]\n",
    "odd = []\n",
    "even = []\n",
    "for i in num:\n",
    "    if i % 2== 0:\n",
    "        even.append(i)\n",
    "    else:\n",
    "        odd.append(i)\n",
    "print(even)\n",
    "print(odd)"
   ]
  },
  {
   "cell_type": "code",
   "execution_count": 13,
   "id": "7c004d74-55dd-4cdf-a9ac-cc1596122775",
   "metadata": {},
   "outputs": [],
   "source": [
    "#7. Develop a program that prints the squares of numbers from 1 to 5 using a `for` loop.\n"
   ]
  },
  {
   "cell_type": "code",
   "execution_count": 14,
   "id": "b30a27ef-9f4f-453a-aafe-596ba16ee4a8",
   "metadata": {},
   "outputs": [
    {
     "name": "stdout",
     "output_type": "stream",
     "text": [
      "1\n",
      "4\n",
      "9\n",
      "16\n",
      "25\n"
     ]
    }
   ],
   "source": [
    "sq = 0\n",
    "for i in range(1,6):\n",
    "    print(i**2)"
   ]
  },
  {
   "cell_type": "code",
   "execution_count": 15,
   "id": "4ee9685a-f365-4a6f-9fed-522177c525e8",
   "metadata": {},
   "outputs": [],
   "source": [
    "#8. Create a program to find the length of a string without using the 'len()' function"
   ]
  },
  {
   "cell_type": "code",
   "execution_count": 16,
   "id": "17d3aa1d-59c1-4bb5-a1d0-e8b7255ae362",
   "metadata": {},
   "outputs": [
    {
     "name": "stdout",
     "output_type": "stream",
     "text": [
      "6\n"
     ]
    }
   ],
   "source": [
    "s = \"satyam\"\n",
    "leng = 0\n",
    "for c in s:\n",
    "    leng = leng + 1\n",
    "print(leng)"
   ]
  },
  {
   "cell_type": "code",
   "execution_count": 17,
   "id": "8696c7ba-318c-4908-b8e5-d48a0b4b457f",
   "metadata": {},
   "outputs": [],
   "source": [
    "#9.Write a program that calculates the average of a list of numbers using a `for` loop."
   ]
  },
  {
   "cell_type": "code",
   "execution_count": 18,
   "id": "86e67ed0-eac4-45f9-b404-a6c818121f13",
   "metadata": {},
   "outputs": [
    {
     "name": "stdout",
     "output_type": "stream",
     "text": [
      "3.0\n"
     ]
    }
   ],
   "source": [
    "sums = 0\n",
    "n = [1, 2, 3, 4, 5]\n",
    "count = 0\n",
    "for i in n:\n",
    "    sums = sums + i\n",
    "    count = count + 1\n",
    "avg = sums/count\n",
    "print(avg)"
   ]
  },
  {
   "cell_type": "code",
   "execution_count": 2,
   "id": "5025cdb5-2278-4a2e-b72c-1b816a5d99f8",
   "metadata": {},
   "outputs": [],
   "source": [
    "#10. Develop a program that prints the first `n` Fibonacci numbers using a `for` loop."
   ]
  },
  {
   "cell_type": "code",
   "execution_count": 7,
   "id": "43065d28-3397-47c4-8ba7-31b8a9b4903c",
   "metadata": {},
   "outputs": [
    {
     "name": "stdin",
     "output_type": "stream",
     "text": [
      "Enter a positive integer:  10\n"
     ]
    },
    {
     "name": "stdout",
     "output_type": "stream",
     "text": [
      "0\n",
      "1\n",
      "1\n",
      "2\n",
      "3\n",
      "5\n",
      "8\n",
      "13\n",
      "21\n",
      "34\n"
     ]
    }
   ],
   "source": [
    "n = int(input(\"Enter a positive integer: \"))\n",
    "a= 0\n",
    "b=1\n",
    "print(a)\n",
    "print(b)\n",
    "for i in range(n-2):\n",
    "    c=a+b\n",
    "    print(c)\n",
    "    a=b\n",
    "    b=c\n",
    "    "
   ]
  },
  {
   "cell_type": "code",
   "execution_count": 8,
   "id": "5752dfad-4f29-4e60-8e6d-22f8cbbbcda7",
   "metadata": {},
   "outputs": [],
   "source": [
    "#Write a program to check if a given list contains any duplicates using a 'for' loop"
   ]
  },
  {
   "cell_type": "code",
   "execution_count": 7,
   "id": "627bcc49-17f3-4432-8383-94a2401a6161",
   "metadata": {},
   "outputs": [
    {
     "name": "stdout",
     "output_type": "stream",
     "text": [
      "The list does not contain duplicates\n"
     ]
    }
   ],
   "source": [
    "numbers = [1, 2, 3, 4, 5, 9] \n",
    "duplicates = 0\n",
    "p = len(numbers)\n",
    "for i in range(p): \n",
    "    for j in range(i + 1, p): \n",
    "        if numbers[i] == numbers[j]: \n",
    "            duplicates = True \n",
    "if duplicates:\n",
    "    print(\"The list contains duplicates\") \n",
    "else: \n",
    "    print(\"The list does not contain duplicates\") "
   ]
  },
  {
   "cell_type": "code",
   "execution_count": null,
   "id": "342ee840-e191-489f-8b29-c22d1bff6a10",
   "metadata": {},
   "outputs": [],
   "source": [
    "#12. Create a program that prints the prime numbers in a given range using a `for` loop."
   ]
  },
  {
   "cell_type": "code",
   "execution_count": 2,
   "id": "d9b4475b-3c64-4c58-a39c-240c6d6e314d",
   "metadata": {},
   "outputs": [
    {
     "name": "stdin",
     "output_type": "stream",
     "text": [
      "Enter the lower limit of the range:  9\n",
      "Enter the upper limit of the range:  11\n"
     ]
    },
    {
     "name": "stdout",
     "output_type": "stream",
     "text": [
      "11\n"
     ]
    }
   ],
   "source": [
    "start = int(input(\"Enter the lower limit of the range: \"))\n",
    "end = int(input(\"Enter the upper limit of the range: \")) \n",
    "for n in range(start, end + 1): \n",
    "    is_prime = True \n",
    "    for i in range(2, int(n**0.5) + 1): \n",
    "        if n % i == 0: \n",
    "            is_prime = False \n",
    "            break \n",
    "    if is_prime: \n",
    "        print(n)"
   ]
  },
  {
   "cell_type": "code",
   "execution_count": 3,
   "id": "9bf60fcd-7b65-45ff-932d-626ef5e95de8",
   "metadata": {},
   "outputs": [],
   "source": [
    "#13. Develop a program that counts the number of vowels in a string using a `for` loop."
   ]
  },
  {
   "cell_type": "code",
   "execution_count": 4,
   "id": "1a8fba58-2367-4722-969e-b5725c6e7824",
   "metadata": {},
   "outputs": [
    {
     "name": "stdout",
     "output_type": "stream",
     "text": [
      "2\n"
     ]
    }
   ],
   "source": [
    "s = \"SATYam\"\n",
    "vowels = \"aeiouAEIOU\"\n",
    "count = 0\n",
    "for i in s:\n",
    "    if i in vowels:\n",
    "        count = count + 1\n",
    "print(count)\n",
    "    "
   ]
  },
  {
   "cell_type": "code",
   "execution_count": 5,
   "id": "af5e7162-8a32-410c-95b3-840c883ee812",
   "metadata": {},
   "outputs": [],
   "source": [
    "#14. Write a program to find the maximum element in a 2D list using a nested `for` loop."
   ]
  },
  {
   "cell_type": "code",
   "execution_count": 3,
   "id": "34162805-b154-43de-a61e-a62aeb9f2388",
   "metadata": {},
   "outputs": [
    {
     "name": "stdout",
     "output_type": "stream",
     "text": [
      "10\n"
     ]
    }
   ],
   "source": [
    "matrix = [[1, 2, 3], [4, 5, 10], [7, 8, 9]] \n",
    "maximum = 0\n",
    "for r in matrix: \n",
    "    for e in r:\n",
    "        if e > maximum: \n",
    "            maximum = e \n",
    "print(maximum)"
   ]
  },
  {
   "cell_type": "code",
   "execution_count": 8,
   "id": "60481610-2358-4f6f-bfce-712dab9f3cd7",
   "metadata": {},
   "outputs": [],
   "source": [
    "#15. Create a program that removes all occurrences of a specific element from a list using a `for` loop.\n",
    "        "
   ]
  },
  {
   "cell_type": "code",
   "execution_count": 8,
   "id": "54a02e7a-28a0-4a45-802a-c4b8b5c27506",
   "metadata": {},
   "outputs": [
    {
     "name": "stdout",
     "output_type": "stream",
     "text": [
      "Original list: [10, 20, 10, 30, 10, 40, 10, 50]\n",
      "list after removingelements: [20, 30, 40, 50]\n"
     ]
    }
   ],
   "source": [
    "list = [10,20,10,30,10,40,10,50]\n",
    "n = 10\n",
    "print(\"Original list:\",list)\n",
    "for x in list:\n",
    "  if x == n:\n",
    "    list.remove(x)\n",
    "print(\"list after removingelements:\",list)"
   ]
  },
  {
   "cell_type": "code",
   "execution_count": 9,
   "id": "278c5791-2975-468b-9139-6f8afca9dc86",
   "metadata": {},
   "outputs": [],
   "source": [
    "#16. Develop a program that generates a multiplication table for numbers from 1 to 5 using a nested `for` loop."
   ]
  },
  {
   "cell_type": "code",
   "execution_count": 8,
   "id": "920661b3-4060-4e56-862c-4194a6b12f8c",
   "metadata": {},
   "outputs": [
    {
     "name": "stdout",
     "output_type": "stream",
     "text": [
      "1\t2\t3\t4\t5\t\n",
      "2\t4\t6\t8\t10\t\n",
      "3\t6\t9\t12\t15\t\n",
      "4\t8\t12\t16\t20\t\n",
      "5\t10\t15\t20\t25\t\n"
     ]
    }
   ],
   "source": [
    "def multiplication_table(n):\n",
    "  for i in range(1, n + 1):\n",
    "    row = \"\"\n",
    "    for j in range(1, n + 1):\n",
    "      row += str(i * j) + \"\\t\"\n",
    "    print(row)\n",
    "multiplication_table(5)"
   ]
  },
  {
   "cell_type": "code",
   "execution_count": 9,
   "id": "e1348059-9eb1-4dfd-b7e4-32648ea1b5fc",
   "metadata": {},
   "outputs": [],
   "source": [
    "#17. Write a program that converts a list of Fahrenheit temperatures to Celsius using a `for` loop."
   ]
  },
  {
   "cell_type": "code",
   "execution_count": 11,
   "id": "8b955fa3-69c0-4b9e-aef5-00a717d5089e",
   "metadata": {},
   "outputs": [
    {
     "name": "stdout",
     "output_type": "stream",
     "text": [
      "[-12.22, 20.0, 40.0, 60.0, 80.0]\n",
      "[-40.0, -17.78, 0.0, 10.0, 37.78]\n"
     ]
    }
   ],
   "source": [
    "def fahrenheit_to_celsius(f_list):\n",
    "  c_list = []\n",
    "  for f in f_list:\n",
    "    c = round((f - 32) * 5 / 9, 2)\n",
    "    c_list.append(c)\n",
    "  return c_list\n",
    "\n",
    "f_list = [10, 68, 104, 140, 176]\n",
    "print(fahrenheit_to_celsius(f_list)) \n",
    "\n",
    "f_list = [-40, 0, 32, 50, 100]\n",
    "print(fahrenheit_to_celsius(f_list))"
   ]
  },
  {
   "cell_type": "code",
   "execution_count": 12,
   "id": "92f67923-d4b6-418c-bd33-83d2b3ae3282",
   "metadata": {},
   "outputs": [],
   "source": [
    "#18. Create a program to print the common elements from two lists using a `for` loop."
   ]
  },
  {
   "cell_type": "code",
   "execution_count": 2,
   "id": "d05c8011-93e0-455c-a416-fa63e3c3f3ec",
   "metadata": {},
   "outputs": [
    {
     "name": "stdout",
     "output_type": "stream",
     "text": [
      "[3, 4, 5]\n",
      "['c', 'd', 'e']\n"
     ]
    }
   ],
   "source": [
    "def common_elements(lst1, lst2):\n",
    "  common = []\n",
    "  for item in lst1:\n",
    "    if item in lst2 and item not in common:\n",
    "      common.append(item)\n",
    "  print(common)\n",
    "\n",
    "lst1 = [1, 2, 3, 4, 5 ,5 ]\n",
    "lst2 = [3, 4, 5, 6, 7]\n",
    "common_elements(lst1, lst2) \n",
    "lst1 = [\"a\", \"b\", \"c\", \"d\", \"e\"]\n",
    "lst2 = [\"c\", \"d\", \"e\", \"f\", \"g\"]\n",
    "common_elements(lst1, lst2) "
   ]
  },
  {
   "cell_type": "code",
   "execution_count": 4,
   "id": "4a0e43fb-8939-42c8-9460-7c76a9859e8a",
   "metadata": {},
   "outputs": [],
   "source": [
    "#19. Develop a program that prints the pattern of right-angled triangles using a `for` loop. Use ‘*’ to draw thepattern"
   ]
  },
  {
   "cell_type": "code",
   "execution_count": 8,
   "id": "a2e4355b-2ddc-49a0-87b0-ed3c3a6e2169",
   "metadata": {},
   "outputs": [
    {
     "name": "stdin",
     "output_type": "stream",
     "text": [
      "enter number 5\n"
     ]
    },
    {
     "name": "stdout",
     "output_type": "stream",
     "text": [
      "*\n",
      "**\n",
      "***\n",
      "****\n",
      "*****\n"
     ]
    }
   ],
   "source": [
    "n = int(input(\"enter number\"))\n",
    "for i in range(1, n + 1):\n",
    "    print(\"*\" * i)"
   ]
  },
  {
   "cell_type": "code",
   "execution_count": 10,
   "id": "7ea7aad1-b351-49ce-8674-6ed6bc33435f",
   "metadata": {},
   "outputs": [],
   "source": [
    "#20. Write a program to find the greatest common divisor (GCD) of two numbers using a `for` loop."
   ]
  },
  {
   "cell_type": "code",
   "execution_count": 1,
   "id": "d0ece814-2c16-4200-b441-e50ac57bfb02",
   "metadata": {},
   "outputs": [
    {
     "name": "stdout",
     "output_type": "stream",
     "text": [
      "12\n"
     ]
    }
   ],
   "source": [
    "def gcd(a, b):\n",
    "    smaller = min(a, b)\n",
    "    for i in range(smaller, 0, -1):\n",
    "        if a % i == 0 and b % i == 0:\n",
    "            return i\n",
    "a = 12\n",
    "b = 24\n",
    "print(gcd(a, b))"
   ]
  },
  {
   "cell_type": "markdown",
   "id": "4853471b-b532-45fc-8869-11cc8c39791f",
   "metadata": {},
   "source": [
    "#21 Create a program that calculates the sum of the digits of numbers in a list using a list comprehension."
   ]
  },
  {
   "cell_type": "code",
   "execution_count": 2,
   "id": "18658b32-82c8-41ca-8753-e3ce13589aab",
   "metadata": {},
   "outputs": [
    {
     "name": "stdout",
     "output_type": "stream",
     "text": [
      "[6, 15, 24]\n",
      "[1, 2, 3, 4, 5]\n"
     ]
    }
   ],
   "source": [
    "def sum_of_digits(lst):\n",
    "  sums = [sum(int(digit) for digit in str(num)) for num in lst]\n",
    "  return sums\n",
    "\n",
    "lst = [123, 456, 789]\n",
    "print(sum_of_digits(lst)) \n",
    "\n",
    "lst = [10, 20, 30, 40, 50]\n",
    "print(sum_of_digits(lst)) \n"
   ]
  },
  {
   "cell_type": "code",
   "execution_count": 1,
   "id": "2d63feae-672e-4905-b55d-81028b104f3e",
   "metadata": {},
   "outputs": [],
   "source": [
    "#22. Write a program to find the prime factors of a given number using a `for` loop and list comprehension."
   ]
  },
  {
   "cell_type": "code",
   "execution_count": 2,
   "id": "a0350465-736a-48bf-a421-80129d170912",
   "metadata": {},
   "outputs": [
    {
     "name": "stdout",
     "output_type": "stream",
     "text": [
      "[2, 3]\n",
      "[3, 5, 7]\n"
     ]
    }
   ],
   "source": [
    "def prime_factors(n):\n",
    "  factors = []\n",
    "  for i in range(2, n):\n",
    "    if n % i == 0:\n",
    "      divisors = [d for d in range(2, i) if i % d == 0]\n",
    "      if len(divisors) == 0:\n",
    "        factors.append(i)\n",
    "  return factors\n",
    "\n",
    "n = 12\n",
    "print(prime_factors(n))\n",
    "\n",
    "n = 315\n",
    "print(prime_factors(n)) "
   ]
  },
  {
   "cell_type": "code",
   "execution_count": 3,
   "id": "20624f81-3955-4e20-abbd-e99811bdb82d",
   "metadata": {},
   "outputs": [],
   "source": [
    "#23. Develop a program that extracts unique elements from a list and stores them in a new list using a listcomprehension."
   ]
  },
  {
   "cell_type": "code",
   "execution_count": 9,
   "id": "00b7e963-563c-4a09-8f26-40af8bc2f21c",
   "metadata": {},
   "outputs": [
    {
     "name": "stdout",
     "output_type": "stream",
     "text": [
      "[5, 6]\n",
      "['e']\n"
     ]
    }
   ],
   "source": [
    "def unique_elements(lst):\n",
    "  unique = [ item for item in lst if lst.count(item) == 1]\n",
    "  return unique\n",
    "\n",
    "lst = [1, 2, 3, 4, 5, 4, 3, 2, 1, 6]\n",
    "print(unique_elements(lst))\n",
    "\n",
    "lst = [\"a\", \"b\", \"c\", \"d\", \"e\", \"d\", \"c\", \"b\", \"a\"]\n",
    "print(unique_elements(lst))"
   ]
  },
  {
   "cell_type": "code",
   "execution_count": 10,
   "id": "49ca9b24-ef7e-40fd-a0bf-288df2082671",
   "metadata": {},
   "outputs": [],
   "source": [
    "#24. Create a program that generates a list of all palindromic numbers up to a specified limit using a listcomprehension."
   ]
  },
  {
   "cell_type": "code",
   "execution_count": 12,
   "id": "7cdf0298-e87c-40e3-93af-b402b2deecc7",
   "metadata": {},
   "outputs": [
    {
     "name": "stdout",
     "output_type": "stream",
     "text": [
      "[1, 2, 3, 4, 5, 6, 7, 8, 9, 11, 22, 33, 44, 55, 66, 77, 88, 99, 101, 111, 121]\n"
     ]
    }
   ],
   "source": [
    "def palindromic_numbers(limit):\n",
    "  palindromes = [num for num in range(1, limit + 1) if str(num) == str(num)[::-1]]\n",
    "  return palindromes\n",
    "\n",
    "limit = 121\n",
    "print(palindromic_numbers(limit))"
   ]
  },
  {
   "cell_type": "code",
   "execution_count": 13,
   "id": "b720d916-7a7d-4b1d-b63e-f5de821bab4b",
   "metadata": {},
   "outputs": [],
   "source": [
    "#25. Write a program to flatten a nested list using list comprehension."
   ]
  },
  {
   "cell_type": "code",
   "execution_count": 3,
   "id": "38bfd19f-75f9-4ecc-9694-5a599bb38561",
   "metadata": {},
   "outputs": [
    {
     "name": "stdout",
     "output_type": "stream",
     "text": [
      "[1, 2, 3, 4, 5, 6, 7, 8, 9]\n",
      "['a', 'b', 'c', 'd', 'e', 'f', 'g', 'h', 'i']\n"
     ]
    }
   ],
   "source": [
    "def flatten(lst):\n",
    "  flat = [item for sublist in lst for item in sublist]\n",
    "  return flat\n",
    "\n",
    "lst = [[1, 2, 3], [4, 5, 6], [7, 8, 9]]\n",
    "print(flatten(lst))\n",
    "\n",
    "lst = [[\"a\", \"b\", \"c\"], [\"d\", \"e\", \"f\"], [\"g\", \"h\", \"i\"]]\n",
    "print(flatten(lst))"
   ]
  },
  {
   "cell_type": "code",
   "execution_count": 4,
   "id": "31bc02d4-6b3e-4c0a-b23b-9a00df52f595",
   "metadata": {},
   "outputs": [],
   "source": [
    "#26. Develop a program that computes the sum of even and odd numbers in a list separately using listcomprehension."
   ]
  },
  {
   "cell_type": "code",
   "execution_count": 5,
   "id": "8ade3b11-a8fb-4d80-aa72-2577db6cdaf8",
   "metadata": {},
   "outputs": [
    {
     "name": "stdout",
     "output_type": "stream",
     "text": [
      "Sum of even numbers: 20\n",
      "Sum of odd numbers: 25\n"
     ]
    }
   ],
   "source": [
    "def sum_even_odd(numbers):\n",
    "    sum_even = sum(num for num in numbers if num % 2 == 0)\n",
    "    sum_odd = sum(num for num in numbers if num % 2 != 0)\n",
    "    return sum_even, sum_odd\n",
    "\n",
    "numbers = [1, 2, 3, 4, 5, 6, 7, 8, 9]\n",
    "sum_even, sum_odd = sum_even_odd(numbers)\n",
    "print(f\"Sum of even numbers: {sum_even}\")\n",
    "print(f\"Sum of odd numbers: {sum_odd}\")"
   ]
  },
  {
   "cell_type": "code",
   "execution_count": 6,
   "id": "972a9d9e-d643-43d1-8c89-a517c3b9855d",
   "metadata": {},
   "outputs": [],
   "source": [
    "#27. Create a program that generates a list of squares of odd numbers between 1 and 10 using listcomprehension."
   ]
  },
  {
   "cell_type": "code",
   "execution_count": 6,
   "id": "885b9e19-73fa-43a4-96b1-9a01a1c19e27",
   "metadata": {},
   "outputs": [
    {
     "name": "stdout",
     "output_type": "stream",
     "text": [
      "[1, 9, 25, 49, 81]\n"
     ]
    }
   ],
   "source": [
    "def sq(r):\n",
    "    return[num**2 for num in range(1, r+1) if num%2!=0]\n",
    "\n",
    "r=10\n",
    "\n",
    "print(sq(r))"
   ]
  },
  {
   "cell_type": "code",
   "execution_count": 4,
   "id": "6d8ed85a-abfe-40c2-accb-2e0a3b16f353",
   "metadata": {},
   "outputs": [
    {
     "name": "stdout",
     "output_type": "stream",
     "text": [
      "[1, 9, 25, 49, 81]\n"
     ]
    }
   ],
   "source": [
    "#28. Write a program that combines two lists into a dictionary using list comprehension."
   ]
  },
  {
   "cell_type": "code",
   "execution_count": 14,
   "id": "d8e1e0e5-2b2e-4630-99f7-5a64e0c8fec1",
   "metadata": {},
   "outputs": [
    {
     "name": "stdout",
     "output_type": "stream",
     "text": [
      "{'a': 1, 'b': 2, 'c': 3, 'd': 4}\n"
     ]
    }
   ],
   "source": [
    "def combine_lists(keys, values):\n",
    "    return {k: v for k, v in zip(keys, values)}\n",
    "\n",
    "keys = ['a', 'b', 'c', 'd']\n",
    "values = [1, 2, 3, 4 ]\n",
    "print(combine_lists(keys, values))"
   ]
  },
  {
   "cell_type": "code",
   "execution_count": 15,
   "id": "3230e2ac-98a0-4312-98b4-737d9a6a9acc",
   "metadata": {},
   "outputs": [],
   "source": [
    "#29. Develop a program that extracts the vowels from a string and stores them in a list using list comprehension."
   ]
  },
  {
   "cell_type": "code",
   "execution_count": 19,
   "id": "b7cd3b94-4ca4-418c-a0d9-db75adcbea21",
   "metadata": {},
   "outputs": [
    {
     "name": "stdout",
     "output_type": "stream",
     "text": [
      "['a', 'a', 'I', 'A']\n"
     ]
    }
   ],
   "source": [
    "def vow(j):\n",
    "    return[char for char in j if char in \"aeiousAEIOU\"]\n",
    "j = \"Satyam SINHA\" \n",
    "print(vow(j))"
   ]
  },
  {
   "cell_type": "code",
   "execution_count": 20,
   "id": "166150e0-09e7-4ff7-a267-42e68f5a3cfb",
   "metadata": {},
   "outputs": [],
   "source": [
    "#30Create a program that removes all non-numeric characters from a list of strings using list comprehension."
   ]
  },
  {
   "cell_type": "code",
   "execution_count": 31,
   "id": "8dcf8b4b-d929-4c3a-a15a-715b16535cac",
   "metadata": {},
   "outputs": [
    {
     "name": "stdout",
     "output_type": "stream",
     "text": [
      "The numbers list is:[2, 4]\n"
     ]
    }
   ],
   "source": [
    "test = \"There are 2 man for 4 womens\"\n",
    "res = [int(i)for i in test.split() if i.isdigit()]\n",
    "print(\"The numbers list is:\" + str(res))"
   ]
  },
  {
   "cell_type": "code",
   "execution_count": 33,
   "id": "e395e4e1-de5b-4142-ac6a-9191937350df",
   "metadata": {},
   "outputs": [],
   "source": [
    "#31 Write a program to generate a list of prime numbers using the Sieve of Eratosthenes algorithm and listcomprehension."
   ]
  },
  {
   "cell_type": "code",
   "execution_count": 3,
   "id": "26cbadd8-2a94-48d5-8f3f-32ceb75f52b1",
   "metadata": {},
   "outputs": [
    {
     "name": "stdout",
     "output_type": "stream",
     "text": [
      "[2, 3, 5, 7, 11, 13, 17, 19, 23, 29]\n"
     ]
    }
   ],
   "source": [
    "def sieve_of_eratosthenes(n):\n",
    "    primes = [True for i in range(n+1)]\n",
    "    p = 2\n",
    "    while (p * p <= n):\n",
    "        if (primes[p] == True):\n",
    "            for i in range(p * p, n+1, p):\n",
    "                primes[i] = False\n",
    "        p += 1\n",
    "    prime_numbers = [p for p in range(2, n) if primes[p]]\n",
    "    return prime_numbers\n",
    "\n",
    "print(sieve_of_eratosthenes(30))"
   ]
  },
  {
   "cell_type": "code",
   "execution_count": 3,
   "id": "5903111e-de1b-4a36-91fc-f5712ff3cfcc",
   "metadata": {},
   "outputs": [],
   "source": [
    "#32Create a program that generates a list of all Pythagorean triplets up to a specified limit using listcomprehension."
   ]
  },
  {
   "cell_type": "code",
   "execution_count": 8,
   "id": "6b338a5b-b514-45ed-b91b-f26e719dfd77",
   "metadata": {},
   "outputs": [
    {
     "name": "stdout",
     "output_type": "stream",
     "text": [
      "[(3, 4, 5), (5, 12, 13), (6, 8, 10), (7, 24, 25), (8, 15, 17), (9, 12, 15), (10, 24, 26), (12, 16, 20), (15, 20, 25), (18, 24, 30), (20, 21, 29)]\n"
     ]
    }
   ],
   "source": [
    "def pythagorean_triplets(n):\n",
    "    return [(a, b, c) for a in range(1, n+1) for b in range(a, n+1) for c in range(b, n+1) if a**2 + b**2 == c**2]\n",
    "\n",
    "print(pythagorean_triplets(30))\n",
    "        "
   ]
  },
  {
   "cell_type": "code",
   "execution_count": 3,
   "id": "1f639d8a-ebd1-4300-b641-73725e435c28",
   "metadata": {},
   "outputs": [],
   "source": [
    "#33Develop a program that generates a list of all possible combinations of two lists using list comprehension."
   ]
  },
  {
   "cell_type": "code",
   "execution_count": 7,
   "id": "9347b936-f590-4647-9151-c7639cdfd677",
   "metadata": {},
   "outputs": [
    {
     "name": "stdout",
     "output_type": "stream",
     "text": [
      "[('a', 1), ('a', 2), ('a', 3), ('b', 1), ('b', 2), ('b', 3), ('c', 1), ('c', 2), ('c', 3), ('u', 1), ('u', 2), ('u', 3)]\n"
     ]
    }
   ],
   "source": [
    "def combine_lists(list1, list2):\n",
    "    return [(a, b) for a in list1 for b in list2]\n",
    "\n",
    "list1 = ['a', 'b', 'c', 'u']\n",
    "list2 = [1, 2, 3]\n",
    "print(combine_lists(list1, list2))"
   ]
  },
  {
   "cell_type": "code",
   "execution_count": 6,
   "id": "18caa6d5-f0bf-4002-a402-640c1f4c2524",
   "metadata": {},
   "outputs": [],
   "source": [
    "#34. Write a program that calculates the mean, median, and mode of a list of numbers using listcomprehension."
   ]
  },
  {
   "cell_type": "code",
   "execution_count": 13,
   "id": "4298dda8-b027-4519-85b2-1dbb6f2306de",
   "metadata": {},
   "outputs": [
    {
     "name": "stdout",
     "output_type": "stream",
     "text": [
      "Mean: 3.125\n",
      "Median: 3.5\n",
      "Mode: [4]\n"
     ]
    }
   ],
   "source": [
    "from collections import Counter\n",
    "def calculate_statistics(numbers):\n",
    "    mean = sum(numbers) / len(numbers)\n",
    "\n",
    "    numbers.sort()\n",
    "    if len(numbers) % 2 == 0:\n",
    "        median = (numbers[len(numbers) // 2 - 1] + numbers[len(numbers) // 2]) / 2\n",
    "    else:\n",
    "        median = numbers[len(numbers) // 2]\n",
    "\n",
    "    count = Counter(numbers)\n",
    "    max_count = max(count.values())\n",
    "    mode = [num for num, freq in count.items() if freq == max_count]\n",
    "\n",
    "    return mean, median, mode\n",
    "\n",
    "numbers = [1, 2, 2, 3, 4, 4, 4, 5]\n",
    "mean, median, mode = calculate_statistics(numbers)\n",
    "print(f\"Mean: {mean}\")\n",
    "print(f\"Median: {median}\")\n",
    "print(f\"Mode: {mode}\")"
   ]
  },
  {
   "cell_type": "code",
   "execution_count": 16,
   "id": "3faf9240-8718-42ca-b0d7-f96a1bda52ab",
   "metadata": {},
   "outputs": [],
   "source": [
    "#35. Create a program that generates Pascal's triangle up to a specified number of rows using listcomprehension."
   ]
  },
  {
   "cell_type": "code",
   "execution_count": 17,
   "id": "e16e27bf-601d-4483-b474-d8e023e0916d",
   "metadata": {},
   "outputs": [
    {
     "name": "stdout",
     "output_type": "stream",
     "text": [
      "[1]\n",
      "[1, 1]\n",
      "[1, 2, 1]\n",
      "[1, 3, 3, 1]\n",
      "[1, 4, 6, 4, 1]\n"
     ]
    }
   ],
   "source": [
    "def generate_pascals_triangle(n):\n",
    "    triangle = [[1]]\n",
    "    for i in range(1, n):\n",
    "        row = [1]\n",
    "        last_row = triangle[-1]\n",
    "        row += [last_row[j] + last_row[j+1] for j in range(len(last_row) - 1)]\n",
    "        row.append(1)\n",
    "        triangle.append(row)\n",
    "    return triangle\n",
    "\n",
    "n = 5\n",
    "triangle = generate_pascals_triangle(n)\n",
    "for row in triangle:\n",
    "    print(row)"
   ]
  },
  {
   "cell_type": "code",
   "execution_count": null,
   "id": "bd1b9ca5-7270-4800-9252-d275fb052612",
   "metadata": {},
   "outputs": [],
   "source": [
    "#Develop a program that calculates the sum of the digits of a factorial of numbers from 1 to 5 using listcomprehension.\n",
    " "
   ]
  },
  {
   "cell_type": "code",
   "execution_count": 3,
   "id": "fa06c7ef-a54c-4475-bd31-eb6e696c48fc",
   "metadata": {},
   "outputs": [
    {
     "name": "stdout",
     "output_type": "stream",
     "text": [
      "Factorial of 1 is 1\n",
      "Factorial of 2 is 2\n",
      "Factorial of 3 is 12\n",
      "Factorial of 4 is 288\n",
      "Factorial of 5 is 34560\n"
     ]
    }
   ],
   "source": [
    "input_list = [1, 2, 3, 4, 5]\n",
    "fact = 1\n",
    "for item in input_list:\n",
    "  for number in range(1,item+1):\n",
    "    fact = fact * number\n",
    "  print(\"Factorial of\", item, \"is\", fact)"
   ]
  },
  {
   "cell_type": "code",
   "execution_count": 5,
   "id": "16741438-8b93-4ad1-9b30-d76506c6f115",
   "metadata": {},
   "outputs": [],
   "source": [
    "#37. Write a program that finds the longest word in a sentence using list comprehension."
   ]
  },
  {
   "cell_type": "code",
   "execution_count": 10,
   "id": "5b33690c-11bb-4833-9104-3dece8b0760a",
   "metadata": {},
   "outputs": [
    {
     "name": "stdout",
     "output_type": "stream",
     "text": [
      "The longest word in the sentence is: there\n"
     ]
    }
   ],
   "source": [
    "def find_longest_word(sentence):\n",
    "    words = sentence.split()\n",
    "    longest_word = max(words, key=len)\n",
    "    return longest_word\n",
    "\n",
    "sentence = \"there are very good boys\"\n",
    "longest_word = find_longest_word(sentence)\n",
    "print(f\"The longest word in the sentence is: {longest_word}\")"
   ]
  },
  {
   "cell_type": "code",
   "execution_count": 11,
   "id": "449ad279-e109-4f8e-8a6f-82ad78f4e9a2",
   "metadata": {},
   "outputs": [],
   "source": [
    "#38. Create a program that filters a list of strings to include only those with more than three vowels using listcomprehension."
   ]
  },
  {
   "cell_type": "code",
   "execution_count": 3,
   "id": "81f6eb4b-8be4-4f02-9b17-828f2d776316",
   "metadata": {},
   "outputs": [
    {
     "name": "stdout",
     "output_type": "stream",
     "text": [
      "The original list is:['Adventure', 'is', 'fun']\n",
      "Maximum vowels word:Adventure\n"
     ]
    }
   ],
   "source": [
    "test_list = [\"Adventure\", \"is\", \"fun\"]\n",
    "print(\"The original list is:\" + str(test_list))\n",
    "res = \" \"\n",
    "max_len = 0\n",
    "for ele in test_list:\n",
    "  vow_len = len([el for el in ele if el in['a','e','i','o','u']])\n",
    "  if vow_len > max_len:\n",
    "    max_len = vow_len\n",
    "    res = ele\n",
    "print(\"Maximum vowels word:\" + str(res))\n",
    "     "
   ]
  },
  {
   "cell_type": "code",
   "execution_count": 4,
   "id": "98845e6c-5378-4f8c-89e1-6326756dc9f5",
   "metadata": {},
   "outputs": [],
   "source": [
    "#39. Develop a program that calculates the sum of the digits of numbers from 1 to 1000 using listcomprehension."
   ]
  },
  {
   "cell_type": "code",
   "execution_count": 5,
   "id": "2ca757d3-2a5d-4f91-8b74-900d6324d1bd",
   "metadata": {},
   "outputs": [
    {
     "name": "stdout",
     "output_type": "stream",
     "text": [
      "The sum of the digits of numbers from 1 to 1000 is: 13501\n"
     ]
    }
   ],
   "source": [
    "def sum_of_digits(n):\n",
    "    return sum(int(digit) for digit in str(n))\n",
    "\n",
    "numbers = range(1, 1001)\n",
    "sums = [sum_of_digits(n) for n in numbers]\n",
    "\n",
    "print(f\"The sum of the digits of numbers from 1 to 1000 is: {sum(sums)}\")"
   ]
  },
  {
   "cell_type": "code",
   "execution_count": 6,
   "id": "38f90fc7-ae71-44f1-847c-d6bb896be9ab",
   "metadata": {},
   "outputs": [],
   "source": [
    "#40Write a program that generates a list of prime palindromic numbers using list comprehension."
   ]
  },
  {
   "cell_type": "code",
   "execution_count": 7,
   "id": "500c5223-d519-48d3-9140-6ed69ef2446c",
   "metadata": {},
   "outputs": [
    {
     "name": "stdout",
     "output_type": "stream",
     "text": [
      "Prime palindromic numbers: [2, 3, 5, 7, 11, 101, 131, 151, 181, 191, 313, 353, 373, 383, 727, 757, 787, 797, 919, 929]\n"
     ]
    }
   ],
   "source": [
    "def is_prime(n):\n",
    "    if n < 2:\n",
    "        return False\n",
    "    for i in range(2, int(n**0.5) + 1):\n",
    "        if n % i == 0:\n",
    "            return False\n",
    "    return True\n",
    "\n",
    "def is_palindrome(n):\n",
    "    return str(n) == str(n)[::-1]\n",
    "\n",
    "prime_palindromes = [n for n in range(2, 10000) if is_prime(n) and is_palindrome(n)]\n",
    "print(f\"Prime palindromic numbers: {prime_palindromes}\")\n"
   ]
  },
  {
   "cell_type": "code",
   "execution_count": null,
   "id": "cae699ec-797c-4d2d-b920-72f66817ab88",
   "metadata": {},
   "outputs": [],
   "source": []
  }
 ],
 "metadata": {
  "kernelspec": {
   "display_name": "Python 3 (ipykernel)",
   "language": "python",
   "name": "python3"
  },
  "language_info": {
   "codemirror_mode": {
    "name": "ipython",
    "version": 3
   },
   "file_extension": ".py",
   "mimetype": "text/x-python",
   "name": "python",
   "nbconvert_exporter": "python",
   "pygments_lexer": "ipython3",
   "version": "3.10.8"
  }
 },
 "nbformat": 4,
 "nbformat_minor": 5
}
